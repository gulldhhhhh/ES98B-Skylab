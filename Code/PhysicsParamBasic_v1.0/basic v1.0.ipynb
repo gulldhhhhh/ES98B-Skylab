{
 "cells": [
  {
   "cell_type": "markdown",
   "id": "3934a662-b2ea-41ea-838f-a317653c216f",
   "metadata": {},
   "source": [
    "version 1.0 "
   ]
  },
  {
   "cell_type": "code",
   "execution_count": 1,
   "id": "d885cd28-01bb-4ae0-8b00-d6c98636027a",
   "metadata": {},
   "outputs": [
    {
     "name": "stdout",
     "output_type": "stream",
     "text": [
      "Force magnitude: 8.134473387755103 N\n",
      "Force direction: -1.5707963267948966 radians\n"
     ]
    }
   ],
   "source": [
    "import numpy as np\n",
    "\n",
    "# Constants\n",
    "rho_0 = 1.225  # kg/m^3, atmospheric density at sea level\n",
    "H = 8400.0  # m, scale height\n",
    "G = 6.67430e-11  # m^3 kg^-1 s^-2, gravitational constant\n",
    "M_earth = 5.972e24  # kg, Earth mass\n",
    "R_earth = 6371000  # m, Earth radius\n",
    "C_d = 2.2  # Drag coefficient\n",
    "A = np.pi * (3.3 / 2)**2  # m^2, satellite windward area\n",
    "\n",
    "def satellite_forces(position, velocity, velocity_direction):\n",
    "    # Extract coordinates\n",
    "    x, y = position\n",
    "    vx, vy = velocity * np.cos(velocity_direction), velocity * np.sin(velocity_direction)\n",
    "\n",
    "    # Atmospheric density calculation\n",
    "    altitude = np.sqrt(x**2 + y**2) - R_earth\n",
    "    rho = rho_0 * np.exp(-altitude / H)\n",
    "\n",
    "    # Drag force calculation\n",
    "    v = np.sqrt(vx**2 + vy**2)\n",
    "    Fd = 0.5 * rho * v**2 * C_d * A\n",
    "    Fd_x = Fd * (vx / v)\n",
    "    Fd_y = Fd * (vy / v)\n",
    "\n",
    "    # Gravitational force calculation\n",
    "    r = np.sqrt(x**2 + y**2)\n",
    "    Fg = G * M_earth / r**2\n",
    "    Fg_x = -Fg * (x / r)\n",
    "    Fg_y = -Fg * (y / r)\n",
    "\n",
    "    # Total forces in x and y directions\n",
    "    total_force_x = Fd_x + Fg_x\n",
    "    total_force_y = Fd_y + Fg_y\n",
    "    force_direction = np.arctan2(total_force_y, total_force_x)\n",
    "\n",
    "    return np.sqrt(total_force_x**2 + total_force_y**2), force_direction\n",
    "\n",
    "# Example usage\n",
    "position = [0, 7000000]  # Example position (x=0, y=altitude+Earth radius)\n",
    "velocity = 7500  # Example velocity in m/s\n",
    "velocity_direction = 0  # Horizontal movement\n",
    "force_magnitude, force_direction = satellite_forces(position, velocity, velocity_direction)\n",
    "print(\"Force:\", force_magnitude, \"N\")\n",
    "print(\"Direction:\", force_direction, \"radians\")\n"
   ]
  },
  {
   "cell_type": "markdown",
   "id": "4ab838ff-7cf4-4f7e-88e9-418c07598d36",
   "metadata": {},
   "source": [
    "version 2.0(3D model with standerd atmospheric model)"
   ]
  },
  {
   "cell_type": "code",
   "execution_count": 15,
   "id": "916e622d-c398-465f-8088-b23301e9a173",
   "metadata": {},
   "outputs": [
    {
     "name": "stdout",
     "output_type": "stream",
     "text": [
      "force: 7.971936821748241 N\n",
      "direction: (3.141592653589793, 0.0) theta, phi\n"
     ]
    }
   ],
   "source": [
    "import numpy as np\n",
    "from datetime import datetime\n",
    "from nrlmsise00 import msise_model\n",
    "\n",
    "# Declaring Constants\n",
    "G = 6.67430e-11  # Gravitational constant, m^3 kg^-1 s^-2\n",
    "M_earth = 5.972e24  # Earth mass, kg\n",
    "R_earth = 6371000  # Earth radius, m\n",
    "C_d = 2.2  # Drag coefficient\n",
    "m = 3000  # Satellite mass, kg\n",
    "A = np.pi * (3.3 / 2)**2  # Satellite windward area, m^2\n",
    "\n",
    "def satellite_forces(time, position, velocity, velocity_direction):\n",
    "    # Convert velocity direction to three-dimensional velocity vector\n",
    "    v_mag = velocity\n",
    "    vx = v_mag * np.sin(velocity_direction[0]) * np.cos(velocity_direction[1])\n",
    "    vy = v_mag * np.sin(velocity_direction[0]) * np.sin(velocity_direction[1])\n",
    "    vz = v_mag * np.cos(velocity_direction[0])\n",
    "    \n",
    "    # Convert position vector to Earth center coordinates\n",
    "    x, y, z = position\n",
    "    r = np.sqrt(x**2 + y**2 + z**2)\n",
    "    altitude = (r - R_earth) / 1000  # Convert units to kilometers\n",
    "\n",
    "    # Get latitude and longitude of the current location\n",
    "    lat = np.arcsin(z / r) * (180 / np.pi)  # Convert to degrees\n",
    "    lon = np.arctan2(y, x) * (180 / np.pi)  # Convert to degrees\n",
    "    \n",
    "    # Obtain atmospheric density using the NRLMSISE-00 model\n",
    "    output = msise_model(time, altitude, lat, lon, 150, 150, 4, lst=16)\n",
    "    rho = output[0][5]  # Total mass density in kg/m^3\n",
    "\n",
    "    # Calculate drag force components\n",
    "    v = np.sqrt(vx**2 + vy**2 + vz**2)\n",
    "    Fd = 0.5 * rho * v**2 * C_d * A\n",
    "    Fd_x = Fd * (vx / v)\n",
    "    Fd_y = Fd * (vy / v)\n",
    "    Fd_z = Fd * (vz / v)\n",
    "\n",
    "    # Calculate gravitational force components\n",
    "    Fg = G * M_earth / r**2\n",
    "    Fg_x = -Fg * (x / r)\n",
    "    Fg_y = -Fg * (y / r)\n",
    "    Fg_z = -Fg * (z / r)\n",
    "\n",
    "    # Total force components\n",
    "    total_force_x = Fd_x + Fg_x\n",
    "    total_force_y = Fd_y + Fg_y\n",
    "    total_force_z = Fd_z + Fg_z\n",
    "    force_magnitude = np.sqrt(total_force_x**2 + total_force_y**2 + total_force_z**2)\n",
    "\n",
    "    # Calculate force direction in spherical coordinates\n",
    "    theta = np.arccos(total_force_z / force_magnitude)  # Elevation angle\n",
    "    phi = np.arctan2(total_force_y, total_force_x)  # Azimuth angle\n",
    "\n",
    "    return force_magnitude, (theta, phi)  # Return both magnitude and direction tuple\n",
    "\n",
    "# Example usage\n",
    "time = datetime(2009, 6, 21, 8, 3, 20)\n",
    "position = [0, 0, 7071000]  # Three-dimensional position (including Earth radius)\n",
    "velocity = 7500  # velocity, m/s\n",
    "velocity_direction = [np.pi / 2, 0]  # Velocity direction, spherical coordinate form [theta, phi]\n",
    "force_magnitude, force_direction= satellite_forces(time, position, velocity, velocity_direction)\n",
    "print(\"Force:\", force_magnitude, \"N\")\n",
    "print(\"Direction:\", force_direction, \"theta, phi\")"
   ]
  },
  {
   "cell_type": "code",
   "execution_count": null,
   "id": "6ffb622e-0096-4e81-8ec1-a8585af76025",
   "metadata": {},
   "outputs": [],
   "source": []
  }
 ],
 "metadata": {
  "kernelspec": {
   "display_name": "Python 3 (ipykernel)",
   "language": "python",
   "name": "python3"
  },
  "language_info": {
   "codemirror_mode": {
    "name": "ipython",
    "version": 3
   },
   "file_extension": ".py",
   "mimetype": "text/x-python",
   "name": "python",
   "nbconvert_exporter": "python",
   "pygments_lexer": "ipython3",
   "version": "3.11.5"
  }
 },
 "nbformat": 4,
 "nbformat_minor": 5
}
