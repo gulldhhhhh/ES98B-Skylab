{
 "cells": [
  {
   "cell_type": "code",
   "execution_count": 1,
   "id": "b2bbc662-4336-461d-afca-a5c91aaed5a9",
   "metadata": {},
   "outputs": [
    {
     "ename": "SystemExit",
     "evalue": "0",
     "output_type": "error",
     "traceback": [
      "An exception has occurred, use %tb to see the full traceback.\n",
      "\u001b[1;31mSystemExit\u001b[0m\u001b[1;31m:\u001b[0m 0\n"
     ]
    },
    {
     "name": "stderr",
     "output_type": "stream",
     "text": [
      "C:\\Users\\Leixin Xu\\AppData\\Roaming\\Python\\Python311\\site-packages\\IPython\\core\\interactiveshell.py:3561: UserWarning: To exit: use 'exit', 'quit', or Ctrl-D.\n",
      "  warn(\"To exit: use 'exit', 'quit', or Ctrl-D.\", stacklevel=1)\n"
     ]
    }
   ],
   "source": [
    "import sys\n",
    "import subprocess\n",
    "from PyQt5.QtWidgets import QApplication, QWidget, QVBoxLayout, QPushButton, QLabel, QLineEdit, QRadioButton, QGroupBox, QHBoxLayout\n",
    "\n",
    "class App(QWidget):\n",
    "    def __init__(self):\n",
    "        super().__init__()\n",
    "        self.title = 'Satellite Trajectory Visualization'\n",
    "        self.initUI()\n",
    "        \n",
    "    def initUI(self):\n",
    "        self.setWindowTitle(self.title)\n",
    "        self.setGeometry(100, 100, 320, 200)\n",
    "        \n",
    "        layout = QVBoxLayout()\n",
    "        self.setLayout(layout)\n",
    "        \n",
    "        # Model selection\n",
    "        model_group_box = QGroupBox(\"Model Selection\")\n",
    "        model_layout = QHBoxLayout()\n",
    "        \n",
    "        self.radio2D = QRadioButton(\"2D Model\")\n",
    "        self.radio3D = QRadioButton(\"3D Model\")\n",
    "        self.radio2D.setChecked(True)\n",
    "        \n",
    "        model_layout.addWidget(self.radio2D)\n",
    "        model_layout.addWidget(self.radio3D)\n",
    "        model_group_box.setLayout(model_layout)\n",
    "        \n",
    "        # Parameter inputs\n",
    "        param_layout = QVBoxLayout()\n",
    "        self.velocity_input = QLineEdit(self)\n",
    "        self.mass_input = QLineEdit(self)\n",
    "        self.drag_coeff_input = QLineEdit(self)\n",
    "        \n",
    "        param_layout.addWidget(QLabel(\"Velocity:\"))\n",
    "        param_layout.addWidget(self.velocity_input)\n",
    "        param_layout.addWidget(QLabel(\"Mass:\"))\n",
    "        param_layout.addWidget(self.mass_input)\n",
    "        param_layout.addWidget(QLabel(\"Drag Coefficient:\"))\n",
    "        param_layout.addWidget(self.drag_coeff_input)\n",
    "        \n",
    "        # Submit button\n",
    "        submit_btn = QPushButton('Run Simulation', self)\n",
    "        submit_btn.clicked.connect(self.on_click)\n",
    "        \n",
    "        layout.addWidget(model_group_box)\n",
    "        layout.addLayout(param_layout)\n",
    "        layout.addWidget(submit_btn)\n",
    "    \n",
    "    def on_click(self):\n",
    "        # Collect values\n",
    "        model = '2D' if self.radio2D.isChecked() else '3D'\n",
    "        velocity = self.velocity_input.text()\n",
    "        mass = self.mass_input.text()\n",
    "        drag_coeff = self.drag_coeff_input.text()\n",
    "        \n",
    "        # Run simulator\n",
    "        print(f\"Running Simulator with Model: {model}, Velocity: {velocity}, Mass: {mass}, Drag Coeff: {drag_coeff}\")\n",
    "        subprocess.run([\"jupyter\", \"nbconvert\", \"--execute\", \"--to\", \"notebook\", \"--output\", \"simulator_output.ipynb\", \"simulator.ipynb\"])\n",
    "        subprocess.run([\"jupyter\", \"nbconvert\", \"--to\", \"csv\", \"simulator_output.ipynb\"])\n",
    "        \n",
    "        # Run predictor\n",
    "        print(f\"Running Predictor with Model: {model}, Velocity: {velocity}, Mass: {mass}, Drag Coeff: {drag_coeff}\")\n",
    "        subprocess.run([\"jupyter\", \"nbconvert\", \"--execute\", \"--to\", \"notebook\", \"--output\", \"predictor_output.ipynb\", \"predictor.ipynb\"])\n",
    "        subprocess.run([\"jupyter\", \"nbconvert\", \"--to\", \"csv\", \"predictor_output.ipynb\"])\n",
    "\n",
    "if __name__ == '__main__':\n",
    "    app = QApplication(sys.argv)\n",
    "    ex = App()\n",
    "    ex.show()\n",
    "    sys.exit(app.exec_())"
   ]
  },
  {
   "cell_type": "code",
   "execution_count": null,
   "id": "6477f475-9004-4582-9b7b-c7667b90879e",
   "metadata": {},
   "outputs": [],
   "source": []
  }
 ],
 "metadata": {
  "kernelspec": {
   "display_name": "Python 3 (ipykernel)",
   "language": "python",
   "name": "python3"
  },
  "language_info": {
   "codemirror_mode": {
    "name": "ipython",
    "version": 3
   },
   "file_extension": ".py",
   "mimetype": "text/x-python",
   "name": "python",
   "nbconvert_exporter": "python",
   "pygments_lexer": "ipython3",
   "version": "3.11.5"
  }
 },
 "nbformat": 4,
 "nbformat_minor": 5
}
