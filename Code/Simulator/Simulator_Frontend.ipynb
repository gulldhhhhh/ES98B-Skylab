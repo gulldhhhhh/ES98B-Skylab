{
 "cells": [
  {
   "cell_type": "code",
   "execution_count": 2,
   "metadata": {},
   "outputs": [],
   "source": [
    "%run Simulator_Backend.ipynb"
   ]
  },
  {
   "cell_type": "code",
   "execution_count": 3,
   "metadata": {},
   "outputs": [
    {
     "name": "stdout",
     "output_type": "stream",
     "text": [
      "Satellite has Crashed!\n"
     ]
    }
   ],
   "source": [
    "\"\"\"\n",
    "ellipse_parameters: contains the centre, width, height and angle of slant for the ellipse orbited around\n",
    "\n",
    "satellite_parameters: must contain the mass, drag coefficient, initial posiiton, initial velocity, initial time, and tangential_velocity flag of the satellite.\n",
    "    -  if the flag tangential_velocity = True, then initial velocity must be a scalar. Otherwise, initial velocity must be a vector.\n",
    "\n",
    "radar_parameters:\n",
    "    - if passing the simple_radar = True flag, must contain an integer corresponding to the number of equidistributed radars on the equator\n",
    "    - if passing the simple_radar = False flag, must contain an array of xyz coordinates corresponding to radar positions on the earth\n",
    "    - No matter the flag, must pass a noise level corresponding to a percentage of noise we expect in the reading\n",
    "\n",
    "optional parameters/flags: \n",
    "    - dt: contains the value for the timestepping algorithm dt = 0.1 is pretty ok at performance\n",
    "    - maxIter: how many iterations the forward step runs. default is 1,000,000. Consider reducing this if you're going to model stable orbits!\n",
    "    - solver: what solver to use for forward stepping the satellite's position\n",
    "    - simple_solver: Whether or not to use forward Euler as a method for forward stepping. Recommended to be set to False\n",
    "    - simple_radar: A flag whether or not to use equally spaced radar arrays or not (see radar_parameters for required inputs for each flag value)\n",
    "\"\"\"\n",
    "\n",
    "ellipse_parameters = {\n",
    "    'centre': (0,0),\n",
    "    'width': 2 * radius_equatorial,\n",
    "    'height': 2 * radius_equatorial,\n",
    "    'angle': 0\n",
    "}\n",
    "\n",
    "satellite_parameters = {\n",
    "    'mass': 3000,\n",
    "    'drag coefficient': 2.2,\n",
    "    'initial position': [0, radius_equatorial + 1000000],\n",
    "    'initial velocity': 7000,\n",
    "    'time': datetime.datetime(2024, 5, 8, 19, 33, 20),\n",
    "    'tangential_velocity': True\n",
    "}\n",
    "\n",
    "radar_parameters = {\n",
    "    'radar parameter': 6,\n",
    "    'noise level (%)': 0.05\n",
    "}\n",
    "\n",
    "poshist, althist = Simulator_2D(ellipse_parameters, satellite_parameters, radar_parameters)"
   ]
  },
  {
   "cell_type": "code",
   "execution_count": 4,
   "metadata": {},
   "outputs": [
    {
     "name": "stdout",
     "output_type": "stream",
     "text": [
      "Satellite has Crashed!\n"
     ]
    }
   ],
   "source": [
    "\"\"\"\n",
    "Collecting all of the information to create the ultimate 3D simulator\n",
    "\n",
    "satellite_parameters: must contain the mass, drag coefficient, initial posiiton, initial velocity, and initial time of the satellite.\n",
    "\n",
    "radar_parameters:\n",
    "    - if passing the simple_radar = True flag, must contain an integer corresponding to the number of equidistributed radars on the equator\n",
    "    - if passing the simple_radar = False flag, must contain an array of xyz coordinates corresponding to radar positions on the earth\n",
    "    - No matter the flag, must pass a noise level corresponding to a percentage of noise we expect in the reading\n",
    "\n",
    "dt: contains the value for the timestepping algorithm dt = 0.1 is pretty ok at performance\n",
    "maxIter: how many iterations the forward step runs. default is 1,000,000. Consider reducing this if you're going to model stable orbits!\n",
    "solver: what solver to use for forward stepping the satellite's position\n",
    "kilometers: A flag to use km or m for values (recommended to use km)\n",
    "simple_solver: Whether or not to use forward Euler as a method for forward stepping. Recommended to be set to False\n",
    "drag_type: What kind of atmospheric model to use. \"complex\" uses nmrlsise00.\n",
    "simple_radar: A flag whether or not to use Equatorial radar arrays or not (see radar_parameters for required inputs for each flag value)\n",
    "\"\"\"\n",
    "\n",
    "satellite_parameters = {\n",
    "    'mass': 3000,\n",
    "    'drag coefficient': 2.2,\n",
    "    'initial position': [0, 0, radius_equatorial/1000 + 406.0],\n",
    "    'initial velocity': [np.sqrt(7.65**2/3), np.sqrt(1.5 * 7.65**2/3), 0],\n",
    "    'time': datetime.datetime(2024, 5, 8, 19, 33, 20)\n",
    "}\n",
    "radar_parameters = {\n",
    "    'radar parameter': 8,\n",
    "    'noise level (%)': 0.05\n",
    "    }\n",
    "\n",
    "poshist, althist = Simulator(satellite_parameters, radar_parameters)"
   ]
  },
  {
   "cell_type": "code",
   "execution_count": null,
   "metadata": {},
   "outputs": [],
   "source": []
  }
 ],
 "metadata": {
  "kernelspec": {
   "display_name": "base",
   "language": "python",
   "name": "python3"
  },
  "language_info": {
   "codemirror_mode": {
    "name": "ipython",
    "version": 3
   },
   "file_extension": ".py",
   "mimetype": "text/x-python",
   "name": "python",
   "nbconvert_exporter": "python",
   "pygments_lexer": "ipython3",
   "version": "3.11.5"
  }
 },
 "nbformat": 4,
 "nbformat_minor": 2
}
