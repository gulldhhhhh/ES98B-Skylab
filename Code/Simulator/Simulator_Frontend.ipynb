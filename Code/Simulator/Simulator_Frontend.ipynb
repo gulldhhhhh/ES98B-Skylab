{
 "cells": [
  {
   "cell_type": "markdown",
   "metadata": {},
   "source": [
    "# Simulator Frontend"
   ]
  },
  {
   "cell_type": "markdown",
   "metadata": {},
   "source": [
    "### IMPORTANT: run cell below first!"
   ]
  },
  {
   "cell_type": "code",
   "execution_count": 30,
   "metadata": {},
   "outputs": [],
   "source": [
    "%run Simulator_Backend.ipynb"
   ]
  },
  {
   "cell_type": "markdown",
   "metadata": {},
   "source": [
    "### 2D Simulator"
   ]
  },
  {
   "cell_type": "code",
   "execution_count": 27,
   "metadata": {},
   "outputs": [
    {
     "name": "stdout",
     "output_type": "stream",
     "text": [
      "Satellite has Crashed!\n"
     ]
    }
   ],
   "source": [
    "\"\"\"\n",
    "ellipse_parameters: contains the centre, width, height and angle of slant for the ellipse orbited around\n",
    "\n",
    "satellite_parameters: must contain the mass, drag coefficient, initial position, initial velocity, initial time, and tangential_velocity flag of the satellite.\n",
    "    -  if the flag tangential_velocity = True, then initial velocity must be a scalar. Otherwise, initial velocity must be a list of 2 elements (XY velocity).\n",
    "\n",
    "radar_parameters: contains some radar information in 'radar parameter', and some noise level\n",
    "    - if passing the simple_radar = True flag, first input must contain an integer corresponding to the number of equidistributed radars on the ellipse\n",
    "    - if passing the simple_radar = False flag, first input must contain an array of xy coordinates corresponding to radar positions on the ellipse\n",
    "    - No matter the flag, must pass a noise level corresponding to a percentage of noise we expect in the reading\n",
    "    - reading_interval specifies how many seconds there are between radar readings\n",
    "\n",
    "optional parameters/flags: \n",
    "    - dt: contains the value for the timestepping algorithm; dt = 0.1 has pretty ok performance.\n",
    "    - maxIter: how many iterations the forward step runs. default is 1,000,000. Consider reducing this if you're going to model stable orbits!\n",
    "    - solver: what solver to use for forward stepping the satellite's position\n",
    "    - simple_solver: Whether or not to use forward Euler as a method for forward stepping. Recommended to be set to False\n",
    "    - simple_radar: A flag whether or not to use equally spaced radar arrays or not (see radar_parameters for required inputs for each flag value)\n",
    "\n",
    "Outputs:\n",
    "    - Explicit outputs are poshist and althist (histories of the position in XY and altitude of the satellite)\n",
    "    - Implicit outputs are two CSV files and a JSON file:\n",
    "        -- Radar_Positions_2D.csv: Contains the xy coordinates of the positions of the radar stations\n",
    "        -- Radar_Readings_2D.csv: Contains the readings of the radars at each time step. For n radar stations, every n rows corresponds to one timestep\n",
    "        -- Satellite_Information_2D.json: Contains a bunch of important information about initial and final positions and parameters\n",
    "\"\"\"\n",
    "\n",
    "ellipse_parameters = {\n",
    "    'centre': (0,0),\n",
    "    'width': 2 * radius_equatorial,\n",
    "    'height': 2 * radius_equatorial,\n",
    "    'angle': 0\n",
    "}\n",
    "\n",
    "satellite_parameters = {\n",
    "    'mass': 3000,\n",
    "    'drag coefficient': 2.2,\n",
    "    'initial position': [0, radius_equatorial + 1000000],\n",
    "    'initial velocity': 7000,\n",
    "    'time': datetime.datetime(2024, 5, 8, 19, 33, 20),\n",
    "    'tangential_velocity': True\n",
    "}\n",
    "\n",
    "radar_parameters = {\n",
    "    'radar parameter': 6,\n",
    "    'noise level (%)': 0.05,\n",
    "    'reading_interval': 10\n",
    "}\n",
    "\n",
    "poshist, althist = Simulator_2D(ellipse_parameters, satellite_parameters, radar_parameters)"
   ]
  },
  {
   "cell_type": "markdown",
   "metadata": {},
   "source": [
    "### 3D Simulator"
   ]
  },
  {
   "cell_type": "code",
   "execution_count": 51,
   "metadata": {},
   "outputs": [],
   "source": [
    "%run Simulator_Backend.ipynb\n",
    "\n",
    "\"\"\"\n",
    "satellite_parameters: must contain the mass, drag coefficient, initial position, initial velocity, and initial time of the satellite.\n",
    "\n",
    "radar_parameters:\n",
    "    - if passing the simple_radar = True flag, must contain an integer corresponding to the number of equidistributed radars on the equator\n",
    "    - if passing the simple_radar = False flag, must contain an array of xyz coordinates corresponding to radar positions on the earth\n",
    "    - 'reading type': set this value to 'XYZ' to get radar readings representing the noisy XYZ distance from a radar. Anything else gives (distance, altitude) pairs as outputs\n",
    "    - No matter the flag, must pass a noise level corresponding to a percentage of noise we expect in the reading\n",
    "    - 'reading interval' specifies how many seconds can be \n",
    "\n",
    "dt: contains the value for the timestepping algorithm. The default dt = 0.1 is pretty ok at performance\n",
    "maxIter: how many iterations the forward step runs. default is 1,000,000. Consider reducing this if you're going to model stable orbits!\n",
    "solver: what solver to use for forward stepping the satellite's position. Is Runge-Kutta 4-5 by default\n",
    "kilometers: A flag to use km or m for values (recommended to use km). Is km by default\n",
    "simple_solver: Whether or not to use forward Euler as a method for forward stepping. Recommended to be set to False, and is by default.\n",
    "drag_type: can be \"simple\" or \"complex\": What kind of atmospheric model to use. \"complex\", chosen by default uses nmrlsise00.\n",
    "simple_radar: A flag whether or not to use Equatorial radar arrays or not (see radar_parameters for required inputs for each flag value)\n",
    "rotating_earth: A flag wheter or not to rotate the earth for the purposes of radar readings and final crash position. Is false by defaut.\n",
    "\n",
    "Outputs:\n",
    "    - Explicit outputs are poshist and althist (histories of the position in XYZ and altitude of the satellite)\n",
    "    - Implicit outputs are two CSV files and a JSON file:\n",
    "        -- Radar_Positions.csv: Contains the xyz coordinates of the positions of the radar stations\n",
    "        -- Radar_Readings.csv: Contains the readings of the radars at each time step. For n radar stations, every n rows corresponds to one timestep\n",
    "        -- Satellite_Information.json: Contains a bunch of important information about initial and final positions and parameters\n",
    "\"\"\"\n",
    "\n",
    "#Temporary Fix: Define here the speed in km/s, and change the 408.0 value to whatever \"altitude\" you want to start at.\n",
    "#Helps generate some random initial tangential velocity\n",
    "speed = 6\n",
    "input_pos = np.sqrt(np.array(random_split()) * (radius_equatorial/1000 + 408.0)**2)\n",
    "input_veloc = speed * (random_normal(input_pos))\n",
    "\n",
    "#input_pos = np.sqrt(np.array([1,0,0]) * (radius_equatorial/1000 + 408.0)**2)\n",
    "#input_veloc = speed * np.array([0,1,0])\n",
    "\n",
    "satellite_parameters = {\n",
    "    'mass': 3000,\n",
    "    'drag coefficient': 2.2,\n",
    "    'initial position': input_pos.tolist(),\n",
    "    'initial velocity': input_veloc.tolist(),\n",
    "    'initial time': datetime.datetime(2024, 5, 8, 19, 33, 20)\n",
    "}\n",
    "\n",
    "radar_parameters = {\n",
    "    'radar parameter': 8,\n",
    "    'reading type': 'Not XYZ',\n",
    "    'noise level (%)': 0.05,\n",
    "    'reading interval': 10\n",
    "}\n",
    "\n",
    "poshist, althist = Simulator(satellite_parameters, radar_parameters, maxIter=100000, rotating_earth=True)"
   ]
  },
  {
   "cell_type": "markdown",
   "metadata": {},
   "source": [
    "### 3D Orbit GIF creator"
   ]
  },
  {
   "cell_type": "code",
   "execution_count": 52,
   "metadata": {},
   "outputs": [],
   "source": [
    "from matplotlib import animation\n",
    "\n",
    "poshist = np.array(poshist)\n",
    "init_elev = Cart2Spher(np.array([poshist[0]]))[0][1]\n",
    "final_azmth = Cart2Spher(np.array([poshist[-1]]))[0][2]\n",
    "\n",
    "fig = plt.figure()\n",
    "plt.axis('off')\n",
    "ax1 = fig.add_subplot(111, projection='3d')\n",
    "ax1.plot_surface(earth_ellipsoid[0],earth_ellipsoid[1],earth_ellipsoid[2], alpha = 0.3)\n",
    "line, = ax1.plot(poshist[:,0],poshist[:,1],poshist[:,2])\n",
    "\n",
    "#ax1.view_init(elev = init_elev + np.pi/2, azim = final_azmth + np.pi/4)\n",
    "ax1.view_init(elev = 0, azim = 0)\n",
    "\n",
    "def update(num, poshist, line):\n",
    "    line.set_data(np.array([poshist[:num,0], poshist[:num,1]]))\n",
    "    line.set_3d_properties(np.array(poshist[:num,2]))\n",
    "\n",
    "N = np.arange(0,len(poshist),100).tolist()\n",
    "N.append(len(poshist)-1)\n",
    "N = iter(tuple(N))\n",
    "plt.axis('off')\n",
    "ani = animation.FuncAnimation(fig, update, N, fargs = (poshist, line), cache_frame_data=False, interval = 10, blit=False)\n",
    "ani.save('SatelliteCrash.gif', writer='pillow')\n",
    "plt.subplots_adjust(wspace = 0.9)\n",
    "plt.close()"
   ]
  },
  {
   "cell_type": "code",
   "execution_count": null,
   "metadata": {},
   "outputs": [],
   "source": []
  }
 ],
 "metadata": {
  "kernelspec": {
   "display_name": "base",
   "language": "python",
   "name": "python3"
  },
  "language_info": {
   "codemirror_mode": {
    "name": "ipython",
    "version": 3
   },
   "file_extension": ".py",
   "mimetype": "text/x-python",
   "name": "python",
   "nbconvert_exporter": "python",
   "pygments_lexer": "ipython3",
   "version": "3.11.5"
  }
 },
 "nbformat": 4,
 "nbformat_minor": 2
}
