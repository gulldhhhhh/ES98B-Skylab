{
 "cells": [
  {
   "cell_type": "markdown",
   "metadata": {},
   "source": [
    "# Simulator Testing 0"
   ]
  },
  {
   "cell_type": "markdown",
   "metadata": {},
   "source": [
    "The following code defines an ellipse corresponding to the path around the globe an orbit takes"
   ]
  },
  {
   "cell_type": "code",
   "execution_count": 44,
   "metadata": {},
   "outputs": [],
   "source": [
    "import numpy as np\n",
    "import matplotlib.pyplot as plt\n",
    "import matplotlib.patches as mplp\n",
    "import scipy\n",
    "\n",
    "#Some Absolute Constants\n",
    "radius_polar = 6356752\n",
    "radius_equatorial = 6378137\n",
    "earth_eccentricity_squared = 6.694379e-3"
   ]
  },
  {
   "cell_type": "markdown",
   "metadata": {},
   "source": [
    "For the following code, Cart2Spher converts Cartesian coordinate system $(x,y,z)$ into Spherical coordinate system $(r, \\theta, \\varphi)$, and Spher2Cart does the opposite."
   ]
  },
  {
   "cell_type": "code",
   "execution_count": 47,
   "metadata": {},
   "outputs": [],
   "source": [
    "def Cart2Spher(positions):\n",
    "    sphercoords = np.zeros(positions.shape)\n",
    "    xy2 = positions[:,0]**2 + positions[:,1]**2\n",
    "    sphercoords[:,0] = np.sqrt(xy2 + positions[:,2]**2)\n",
    "    sphercoords[:,1] = np.arctan2(np.sqrt(xy2), positions[:,2])\n",
    "    sphercoords[:,2] = np.arctan2(positions[:,1],positions[:,0])\n",
    "    return sphercoords\n",
    "\n",
    "def Spher2Cart(positions):\n",
    "    cartcoords = np.zeros(positions.shape)\n",
    "    cartcoords[:,0] = positions[:,0] * np.sin(positions[:,1]) * np.cos(positions[:,2])\n",
    "    cartcoords[:,1] = positions[:,0] * np.sin(positions[:,1]) * np.sin(positions[:,2])\n",
    "    cartcoords[:,2] = positions[:,0] * np.cos(positions[:,1])\n",
    "    return cartcoords\n",
    "\n",
    "def Geodetic2Cart(positions):\n",
    "    cartcoords = np.zeros(positions.shape)\n",
    "    N_phi = radius_equatorial / (np.sqrt(1 - earth_eccentricity_squared*np.sin(positions[:,0])**2))\n",
    "    cartcoords[:,0] = (N_phi + positions[:,2]) * np.cos(positions[:,0]) * np.cos(positions[:,1])\n",
    "    cartcoords[:,1] = (N_phi + positions[:,2]) * np.cos(positions[:,0]) * np.sin(positions[:,1])\n",
    "    cartcoords[:,2] = ((1-earth_eccentricity_squared)*N_phi + positions[:,2]) * np.sin(positions[:,0])\n",
    "    return cartcoords\n",
    "\n",
    "def Cart2Geodetic(positions):\n",
    "    geodeticcoords = np.zeros(positions.shape)\n",
    "    geodeticcoords[:,1] = np.arctan2(positions[:,1], positions[:,0])\n",
    "    k_0 = 1/(1 - earth_eccentricity_squared)\n",
    "    k = k_0\n",
    "    p = np.sqrt(positions[:,0]**2 + positions[:,1]**2)\n",
    "    for i in range(3):\n",
    "        ci = ((p**2 + (1-earth_eccentricity_squared) * positions[:,2]**2 * k**2)**(3/2))/ (radius_equatorial * earth_eccentricity_squared)\n",
    "        k = 1 + (p**2 + (1-earth_eccentricity_squared)*positions[:,2]**2*k**3)/(ci - p**2)\n",
    "    \n",
    "    geodeticcoords[:,2] = 1/earth_eccentricity_squared * (1/k - 1/k_0) * np.sqrt(p**2 + positions[:,2]**2 * k **2)\n",
    "    geodeticcoords[:,0] = np.arctan2((k * positions[:,2]), p)\n",
    "    return geodeticcoords\n",
    "\n",
    "# def Cart2Geodetic2(positions):\n",
    "#     geodeticcoords = np.zeros(positions.shape)\n",
    "#     p = np.sqrt(positions[:,0]**2 + positions[:,1]**2)\n",
    "#     F = 54*radius_polar**2 * positions[:,2]**2\n",
    "#     G = p**2 + (1-earth_eccentricity_squared)*positions[:,2]**2 - earth_eccentricity_squared*(radius_equatorial**2-radius_polar**2)\n",
    "#     c = earth_eccentricity_squared**2 * F * p**2 / (G**3)\n",
    "#     s = np.cbrt(1 + c + np.sqrt(c**2 + 2*c))\n",
    "#     k = s + 1 + 1/s\n",
    "#     P = F/(3*k**2 * G**2)\n",
    "#     Q = np.sqrt(1+2*earth_eccentricity_squared**2 * P)\n",
    "#     r_0 = (-P*earth_eccentricity_squared*p)/(1 + Q) + np.sqrt(0.5*radius_equatorial**2 * (1 + 1/Q) - (P*(1-earth_eccentricity_squared)*positions[:,2])/(Q*(1+Q)) - 0.5*P*p**2)\n",
    "#     U = np.sqrt((p-earth_eccentricity_squared*r_0)**2 + positions[:,2]**2)\n",
    "#     V = np.sqrt((p-earth_eccentricity_squared*r_0)**2 + (1-earth_eccentricity_squared)*positions[:,2]**2)\n",
    "#     z_0 = (radius_polar**2 * positions[:,2]) / (radius_equatorial * V)\n",
    "#     geodeticcoords[:,2] = U * (1 - (radius_polar**2)/(radius_equatorial*V))\n",
    "#     geodeticcoords[:,0] = np.arctan((positions[:,2] + (radius_equatorial**2 - radius_polar**2)/radius_polar**2 * z_0)/p)\n",
    "#     geodeticcoords[:,1] = np.arctan2(positions[:,1],positions[:,0])\n",
    "#     return geodeticcoords"
   ]
  },
  {
   "cell_type": "code",
   "execution_count": 52,
   "metadata": {},
   "outputs": [
    {
     "name": "stdout",
     "output_type": "stream",
     "text": [
      "[[8.48186875e-01 4.09412511e-02 6.36628461e+06]]\n",
      "[[6.37265072e+06 7.22612782e-01 4.09412511e-02]]\n"
     ]
    }
   ],
   "source": [
    "test_vals = np.array([[4211e3,172.5e3,4780e3]])\n",
    "print(Cart2Geodetic(test_vals))\n",
    "print(Cart2Spher(test_vals))"
   ]
  },
  {
   "cell_type": "code",
   "execution_count": 258,
   "metadata": {},
   "outputs": [],
   "source": [
    "import numpy as np\n",
    "import matplotlib.pyplot as plt\n",
    "import matplotlib.patches as mplp\n",
    "import scipy\n",
    "\n",
    "class Ellipse:\n",
    "    def __init__(self, centre, height, width, angle=0, tangent_veloc = True):\n",
    "        self.x, self.y = centre\n",
    "        self.w = width\n",
    "        self.h = height\n",
    "        self.theta = angle\n",
    "    \n",
    "    def r(self):\n",
    "        \"\"\"\n",
    "        Defines the rotation matrix used to transform coordinates to 0-centred model\n",
    "        \"\"\"\n",
    "        a = np.cos(self.theta)\n",
    "        b = np.sin(self.theta)\n",
    "        return np.array([[a,-b],[b,a]])\n",
    "    \n",
    "    def point_at_angle(self, angle):\n",
    "        \"\"\"\n",
    "        Given an interior angle from an ellipse's centre, finds a point on the ellipse.\n",
    "        \"\"\"\n",
    "        #Compute location of original point\n",
    "        x_or = 0.5 * self.w * np.cos(angle)\n",
    "        y_or = 0.5 * self.w * np.sin(angle)\n",
    "\n",
    "        #rotate the point to the centred version of the ellipse\n",
    "        rot_point = np.dot(self.r(), [x_or, y_or]) + [self.x, self.y]\n",
    "        return rot_point\n",
    "    \n",
    "    def multi_points(self, locations):\n",
    "        \"\"\"\n",
    "        Given an array of interior angles, this returns an array of positions on the ellipse.\n",
    "        \"\"\"\n",
    "        points_array = []\n",
    "        for loc in locations:\n",
    "            points_array.append(self.point_at_angle(self,loc))\n",
    "        return np.array(points_array)\n",
    "    \n",
    "    def closest_point(self, x, tol=1e-6, max_iter = 100):\n",
    "        \"\"\"\n",
    "        Given a point outside the ellipse, and finds the point on the ellipse closest to this.\n",
    "        It also returns the (smallest) distance between the point and the ellipse.\n",
    "        \"\"\"\n",
    "        #First need to project the point to the space where ellipse centred at origin\n",
    "        #Also, need to initialize the constants\n",
    "        x = np.asarray(x)\n",
    "        x2 = np.dot(self.r().T, x - [self.x, self.y])\n",
    "        d0 = np.arctan2(x2[1], x2[0])\n",
    "        a = 0.5 * self.w\n",
    "        b = 0.5 * self.h\n",
    "        #Check if points are in the interior of the ellipse\n",
    "        if (x2[0] / a)**2 + (x2[1] / b)**2 <1:\n",
    "            print(\"Initial point in interior!\")\n",
    "            return np.array(0), None\n",
    "        \n",
    "        iterations = 0\n",
    "        ds = [d0]\n",
    "        xs = []\n",
    "        errors = [tol]\n",
    "\n",
    "        while errors[-1] >= tol and iterations < max_iter:\n",
    "            x1 = np.array([a * np.cos(ds[-1]), b * np.sin(ds[-1])])\n",
    "            xs.append(x1)\n",
    "            dx1dt = np.array([-a *np.sin(ds[-1]), b * np.cos(ds[-1])])\n",
    "            dx1dt2 = np.array([-a * np.cos(ds[-1]), -b * np.sin(ds[-1])])\n",
    "            dD2dt = 2*np.dot(dx1dt,(x1 - x2))\n",
    "            dD2dt2 = 2*np.dot(dx1dt2,(x1-x2)) + 2*np.dot(dx1dt,dx1dt)\n",
    "            ds.append(ds[-1] - dD2dt / dD2dt2)\n",
    "            errors.append(np.abs(dD2dt/dD2dt2))\n",
    "            iterations +=1\n",
    "        \n",
    "        x1 = np.array([a * np.cos(ds[-1]), b * np.sin(ds[-1])])\n",
    "        dist = np.linalg.norm(x1 - x2)\n",
    "        return dist, xs[-1]\n",
    "\n",
    "\n"
   ]
  },
  {
   "cell_type": "code",
   "execution_count": 278,
   "metadata": {},
   "outputs": [],
   "source": [
    "\n",
    "class Earth_Ellipse:\n",
    "    def __init__(self, incl_angle, rot_angle=0):\n",
    "        self.elevation = incl_angle\n",
    "        self.peak_longitude = rot_angle\n",
    "        self.peak_latitude = -self.elevation+90.0\n",
    "        \n",
    "        self.ellipse_proj = Ellipse((0,0), 2*self.mindist, 2*radius_equatorial)\n",
    "        \n",
    "\n",
    "    \n",
    "\n",
    "\n",
    "\n",
    "\n",
    "\n"
   ]
  },
  {
   "cell_type": "code",
   "execution_count": 279,
   "metadata": {},
   "outputs": [
    {
     "name": "stdout",
     "output_type": "stream",
     "text": [
      "6356752.0\n"
     ]
    }
   ],
   "source": [
    "#Some quick tests\n",
    "ellipse1 = Earth_Ellipse(0,0)"
   ]
  },
  {
   "cell_type": "markdown",
   "metadata": {},
   "source": [
    "To Be Fixed: currently only keeps track of position for (0,0) centred ellipse coords! Needs to be fixed!"
   ]
  },
  {
   "cell_type": "code",
   "execution_count": 3,
   "metadata": {},
   "outputs": [],
   "source": [
    "#Here are some global variables\n",
    "M_e = 5.972e24\n",
    "G = 6.673e-11\n"
   ]
  },
  {
   "cell_type": "code",
   "execution_count": 213,
   "metadata": {},
   "outputs": [],
   "source": [
    "class Satellite:\n",
    "    def __init__(self, mass, dragcoeff, init_position, init_veloc):\n",
    "        \"\"\"\n",
    "        Begin by defining relevant attributes of a satellite, initial poisition,\n",
    "        and set up arrays to track movement of satellite.\n",
    "        \"\"\"\n",
    "        self.mass = mass\n",
    "        self.altitude = None\n",
    "        self.althist = None\n",
    "        self.dragcoeff = dragcoeff\n",
    "        self.position = init_position\n",
    "        self.velocity = init_veloc\n",
    "        self.poshist = [init_position]\n",
    "        self.velochist = [init_veloc]\n",
    "\n",
    "    def calcAltitude(self, ell: Ellipse):\n",
    "        \"\"\"\n",
    "        Given a satellite and an ellipse, this performs the same calculation as the ellipse\n",
    "        But more from a \"Sattelite\" POV\n",
    "        \"\"\"\n",
    "        altitude, ground_pos = ell.closest_point(self.position)\n",
    "        return altitude, ground_pos\n",
    "    \n",
    "    def calcGravAcc(self, ell: Ellipse):\n",
    "        \"\"\"\n",
    "        Given a satellite's position, and accounting for non-zero-centred ellipses, computes\n",
    "        The gravitational accelleration experienced by the satellite at that position\n",
    "        \"\"\"\n",
    "        grav_acc = -G*M_e / np.linalg.norm(np.array(self.position) - np.array([ell.x, ell.y]))**2\n",
    "        theta = np.arctan2(self.position[1], self.position[0])\n",
    "        return np.array([grav_acc * np.cos(theta),grav_acc * np.sin(theta)])\n",
    "\n",
    "    def calcDrag(self, altitude):\n",
    "        \"\"\"\n",
    "        Ideally takes a reference from the physical parameters team to estimate drag\n",
    "        \"\"\"\n",
    "        rho_0 = 1.225\n",
    "        H = 8400.0\n",
    "        A = np.pi * (self.dragcoeff / 2)**2\n",
    "\n",
    "        cur_veloc = self.velochist[-1]\n",
    "        rho = rho_0 * np.exp(-(altitude) / H)\n",
    "        Fd_x = 0.5 * rho * cur_veloc[0]**2 * self.dragcoeff * A\n",
    "        Fd_y = 0.5 * rho * cur_veloc[1]**2 * self.dragcoeff * A\n",
    "        return np.array([Fd_x, Fd_y])\n",
    "    \n",
    "    def FEtimeStep(self, ell: Ellipse, dt):\n",
    "        \"\"\"\n",
    "        Takes a timestep using Forward Euler\n",
    "        \"\"\"\n",
    "        self.altitude, groundpos = self.calcAltitude(ell)\n",
    "        if self.altitude <=0:\n",
    "            return \n",
    "        drag_a = self.calcDrag(self.altitude) / self.mass\n",
    "        grav_a = self.calcGravAcc(ell)\n",
    "        tot_a = -drag_a + grav_a\n",
    "        new_veloc = self.velocity + dt * tot_a\n",
    "        self.velocity = new_veloc\n",
    "        self.velochist.append(new_veloc)\n",
    "        new_position = self.position + dt * self.velocity\n",
    "        self.position = new_position\n",
    "        self.poshist.append(new_position)\n",
    "    \n",
    "    def Gen_TimeStep(self, ell: Ellipse, dt, solver='RK45'):\n",
    "        self.altitude, groundpos = self.calcAltitude(ell)\n",
    "        if self.altitude <=0:\n",
    "            return\n",
    "        drag_a = self.calcDrag(self.altitude) / self.mass\n",
    "        grav_a = self.calcGravAcc(ell)\n",
    "        tot_a = drag_a + grav_a\n",
    "        veloc_func = lambda t, v: tot_a\n",
    "        veloc_sol = scipy.integrate.solve_ivp(veloc_func, [0,dt], self.velocity, method=solver, t_eval = [dt])\n",
    "        new_veloc = [veloc_sol.y[0][0].tolist(),veloc_sol.y[1][0].tolist()]\n",
    "        self.velocity = new_veloc\n",
    "        self.velochist.append(new_veloc)\n",
    "        pos_func = lambda t,x: self.velocity\n",
    "        pos_sol = scipy.integrate.solve_ivp(pos_func, [0,dt], self.position, method=solver, t_eval=[dt])\n",
    "        new_pos = [pos_sol.y[0][0].tolist(),pos_sol.y[1][0].tolist()]\n",
    "        self.position = new_pos\n",
    "        self.poshist.append(new_pos)\n",
    "    \n",
    "    def forecast(self, ell: Ellipse, dt=0.001, maxIter = 1000000, height_tol = 10000, simple_solver = False, solver = 'RK45'):\n",
    "        \"\"\"\n",
    "        Runs the forward euler timestep until our altitude reaches 0. Can adjust dt as seen fit\n",
    "        To be fixed: breaks when altitude drops below 10km or so.\n",
    "        \"\"\"\n",
    "        self.altitude, groundpos = self.calcAltitude(ell)\n",
    "        iter = 0\n",
    "\n",
    "        if self.althist is None:\n",
    "            self.althist = [self.altitude]\n",
    "        \n",
    "        if simple_solver == True:\n",
    "            while self.altitude > height_tol and iter < maxIter:\n",
    "                self.FEtimeStep(ell, dt)\n",
    "                self.althist.append(self.altitude)\n",
    "                #print(self.altitude)\n",
    "                iter +=1\n",
    "            return self.poshist, self.velochist, self.althist\n",
    "        \n",
    "        else:\n",
    "            while self.altitude > height_tol and iter < maxIter:\n",
    "                self.Gen_TimeStep(ell, dt, solver=solver)\n",
    "                self.althist.append(self.altitude)\n",
    "                #print(self.altitude)\n",
    "                iter += 1\n",
    "            return self.poshist, self.velochist, self.althist\n"
   ]
  },
  {
   "cell_type": "code",
   "execution_count": 214,
   "metadata": {},
   "outputs": [],
   "source": [
    "sat1 = Satellite(3000, 2.2, [7378000, 0], [-7000,0])\n",
    "ell1 = Ellipse((0,0), 6278000*2, 6378000*2)"
   ]
  },
  {
   "cell_type": "code",
   "execution_count": 209,
   "metadata": {},
   "outputs": [],
   "source": [
    "#sat1.Gen_TimeStep(ell1, 0.1)"
   ]
  },
  {
   "cell_type": "code",
   "execution_count": 238,
   "metadata": {},
   "outputs": [
    {
     "name": "stdout",
     "output_type": "stream",
     "text": [
      "Initial point in interior!\n"
     ]
    }
   ],
   "source": [
    "#print(ell1.closest_point([7378, 0]))\n",
    "sat1 = Satellite(3000, 2.2, [0, 7378000], [7000,0])\n",
    "ell1 = Ellipse((0,0), 6278000*2, 6378000*2)\n",
    "dt = 0.1\n",
    "poshist, velochist, althist = sat1.forecast(ell1, dt = dt, height_tol = 0)"
   ]
  },
  {
   "cell_type": "code",
   "execution_count": 236,
   "metadata": {},
   "outputs": [],
   "source": [
    "def orbitplotter(poshist, althist, ell1,dt):\n",
    "    fig, axs = plt.subplots(1,2)\n",
    "    axs.flatten()[0].plot(althist[0::int(1/dt)], label = \"Altitude\")\n",
    "    axs.flatten()[0].set_xlabel(\"Time (s)\")\n",
    "    axs.flatten()[0].set_ylabel(\"Altitude (m)\")\n",
    "    axs.flatten()[0].set_title(\"Altitude of Satellite\")\n",
    "    axs.flatten()[0].legend()\n",
    "    ellipse = mplp.Ellipse((ell1.x,ell1.y),ell1.w, ell1.h, angle = ell1.theta, fill=False, color = 'r')\n",
    "    axs.flatten()[1].add_patch(ellipse)\n",
    "    axs.flatten()[1].plot(poshist[:,0], poshist[:,1], label = \"Position\")\n",
    "    axs.flatten()[1].set_aspect('equal')\n",
    "    axs.flatten()[1].set_title(\"Path of Satellite (2D Projection)\")\n",
    "    #axs.flatten()[1].legend(loc='upper left')"
   ]
  },
  {
   "cell_type": "code",
   "execution_count": 237,
   "metadata": {},
   "outputs": [
    {
     "data": {
      "image/png": "[encoded data removed]",
      "text/plain": [
       "<Figure size 640x480 with 2 Axes>"
      ]
     },
     "metadata": {},
     "output_type": "display_data"
    }
   ],
   "source": [
    "poshist = np.array(poshist)\n",
    "orbitplotter(poshist, althist, ell1, dt)"
   ]
  },
  {
   "cell_type": "code",
   "execution_count": null,
   "metadata": {},
   "outputs": [],
   "source": [
    "class radar:\n",
    "    def __init__(self, lat_pos, long_pos):\n",
    "        #TBD - Discuss in meeting"
   ]
  }
 ],
 "metadata": {
  "kernelspec": {
   "display_name": "Python 3",
   "language": "python",
   "name": "python3"
  },
  "language_info": {
   "codemirror_mode": {
    "name": "ipython",
    "version": 3
   },
   "file_extension": ".py",
   "mimetype": "text/x-python",
   "name": "python",
   "nbconvert_exporter": "python",
   "pygments_lexer": "ipython3",
   "version": "3.10.11"
  }
 },
 "nbformat": 4,
 "nbformat_minor": 2
}
