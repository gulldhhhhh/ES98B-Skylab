{
 "cells": [
  {
   "cell_type": "markdown",
   "metadata": {},
   "source": [
    "# Simulator Testing 0"
   ]
  },
  {
   "cell_type": "markdown",
   "metadata": {},
   "source": [
    "The following code defines an ellipse corresponding to the path around the globe an orbit takes"
   ]
  },
  {
   "cell_type": "code",
   "execution_count": 49,
   "metadata": {},
   "outputs": [],
   "source": [
    "import numpy as np\n",
    "\n",
    "class Ellipse:\n",
    "    def __init__(self, centre, height, width, angle=0):\n",
    "        self.x, self.y = centre\n",
    "        self.w = width\n",
    "        self.h = height\n",
    "        self.theta = angle\n",
    "    \n",
    "    def r(self):\n",
    "        \"\"\"\n",
    "        Defines the rotation matrix used to transform coordinates to 0-centred model\n",
    "        \"\"\"\n",
    "        a = np.cos(self.theta)\n",
    "        b = np.sin(self.theta)\n",
    "        return np.array([[a,-b],[b,a]])\n",
    "    \n",
    "    def point_at_angle(self, angle):\n",
    "        \"\"\"\n",
    "        Given an interior angle from an ellipse's centre, finds a point on the ellipse.\n",
    "        \"\"\"\n",
    "        #Compute location of original point\n",
    "        x_or = 0.5 * self.w * np.cos(angle)\n",
    "        y_or = 0.5 * self.w * np.sin(angle)\n",
    "\n",
    "        #rotate the point to the centred version of the ellipse\n",
    "        rot_point = np.dot(self.r(), [x_or, y_or]) + [self.x, self.y]\n",
    "        return rot_point\n",
    "    \n",
    "    def multi_points(self, locations):\n",
    "        \"\"\"\n",
    "        Given an array of interior angles, this returns an array of positions on the ellipse.\n",
    "        \"\"\"\n",
    "        points_array = []\n",
    "        for loc in locations:\n",
    "            points_array.append(self.point_at_angle(self,loc))\n",
    "        return np.array(points_array)\n",
    "    \n",
    "    def closest_point(self, x, tol=1e-6, max_iter = 100):\n",
    "        \"\"\"\n",
    "        Given a point outside the ellipse, and finds the point on the ellipse closest to this.\n",
    "        It also returns the (smallest) distance between the point and the ellipse.\n",
    "        \"\"\"\n",
    "        #First need to project the point to the space where ellipse centred at origin\n",
    "        #Also, need to initialize the constants\n",
    "        x = np.asarray(x)\n",
    "        x2 = np.dot(self.r().T, x - [self.x, self.y])\n",
    "        d0 = np.arctan2(x2[1], x2[0])\n",
    "        a = 0.5 * self.w\n",
    "        b = 0.5 * self.h\n",
    "        #Check if points are in the interior of the ellipse\n",
    "        if (x2[0] / a)**2 + (x2[1] / b)**2 <1:\n",
    "            print(\"Initial point in interior!\")\n",
    "            return np.array(0)\n",
    "        \n",
    "        iterations = 0\n",
    "        ds = [d0]\n",
    "        xs = []\n",
    "        errors = [tol]\n",
    "\n",
    "        while errors[-1] >= tol and iterations < max_iter:\n",
    "            x1 = np.array([a * np.cos(ds[-1]), b * np.sin(ds[-1])])\n",
    "            xs.append(x1)\n",
    "            dx1dt = np.array([-a *np.sin(ds[-1]), b * np.cos(ds[-1])])\n",
    "            dx1dt2 = np.array([-a * np.cos(ds[-1]), -b * np.sin(ds[-1])])\n",
    "            dD2dt = 2*np.dot(dx1dt,(x1 - x2))\n",
    "            dD2dt2 = 2*np.dot(dx1dt2,(x1-x2)) + 2*np.dot(dx1dt,dx1dt)\n",
    "            ds.append(ds[-1] - dD2dt / dD2dt2)\n",
    "            errors.append(np.abs(dD2dt/dD2dt2))\n",
    "            iterations +=1\n",
    "        \n",
    "        return ds[-1], xs[-1]\n",
    "\n",
    "\n"
   ]
  },
  {
   "cell_type": "code",
   "execution_count": 55,
   "metadata": {},
   "outputs": [
    {
     "name": "stdout",
     "output_type": "stream",
     "text": [
      "0\n",
      "(0.7021701907307458, array([7.63442312, 3.22938011]))\n"
     ]
    }
   ],
   "source": [
    "#Some quick tests\n",
    "ellipse1 = Ellipse((0,0),10,20, np.deg2rad(0))\n",
    "print(ellipse1.closest_point([14,14]))"
   ]
  },
  {
   "cell_type": "markdown",
   "metadata": {},
   "source": [
    "To Be Fixed: currently only keeps track of position for (0,0) centred ellipse coords! Needs to be fixed!"
   ]
  },
  {
   "cell_type": "code",
   "execution_count": null,
   "metadata": {},
   "outputs": [],
   "source": [
    "#Here are some global variables\n",
    "M_E = 5.972e24\n",
    "G = 6.673e-11\n"
   ]
  },
  {
   "cell_type": "code",
   "execution_count": 57,
   "metadata": {},
   "outputs": [
    {
     "ename": "SyntaxError",
     "evalue": "invalid syntax (368276046.py, line 17)",
     "output_type": "error",
     "traceback": [
      "\u001b[1;36m  Cell \u001b[1;32mIn[57], line 17\u001b[1;36m\u001b[0m\n\u001b[1;33m    def\u001b[0m\n\u001b[1;37m        ^\u001b[0m\n\u001b[1;31mSyntaxError\u001b[0m\u001b[1;31m:\u001b[0m invalid syntax\n"
     ]
    }
   ],
   "source": [
    "class Satellite:\n",
    "    def __init__(self, mass, init_position, init_veloc):\n",
    "        \"\"\"\n",
    "        Begin by defining relevant attributes of a satellite, initial poisition,\n",
    "        and set up arrays to track movement of satellite.\n",
    "        \"\"\"\n",
    "        self.mass = mass\n",
    "        self.position = init_position\n",
    "        self.velocity = init_veloc\n",
    "        self.poshist = [init_position]\n",
    "        self.velochist = [init_veloc]\n",
    "\n",
    "    def calcAltitude(self, ell: Ellipse):\n",
    "        altitude, position = ell.closest_point(self.position)\n",
    "        return altitude, position\n",
    "    \n",
    "    def calcGravForce(self):\n",
    "        grav_force = "
   ]
  },
  {
   "cell_type": "code",
   "execution_count": null,
   "metadata": {},
   "outputs": [],
   "source": []
  }
 ],
 "metadata": {
  "kernelspec": {
   "display_name": "Python 3",
   "language": "python",
   "name": "python3"
  },
  "language_info": {
   "codemirror_mode": {
    "name": "ipython",
    "version": 3
   },
   "file_extension": ".py",
   "mimetype": "text/x-python",
   "name": "python",
   "nbconvert_exporter": "python",
   "pygments_lexer": "ipython3",
   "version": "3.10.11"
  }
 },
 "nbformat": 4,
 "nbformat_minor": 2
}
