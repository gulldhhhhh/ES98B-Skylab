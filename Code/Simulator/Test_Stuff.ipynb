{
 "cells": [
  {
   "cell_type": "code",
   "execution_count": 12,
   "metadata": {},
   "outputs": [
    {
     "name": "stdout",
     "output_type": "stream",
     "text": [
      "Closest point on the ellipsoid: [-2.01163636e-02  4.50786422e+03  4.49706180e+03]\n"
     ]
    }
   ],
   "source": [
    "import numpy as np\n",
    "from scipy.optimize import minimize, NonlinearConstraint\n",
    "\n",
    "def ellipsoid_distance(x, ellipsoid_radii):\n",
    "    # Determines how far a point is from an ellipsoid's center\n",
    "    # Ellipsoid equation: ((x - xc) / a)**2 + ((y - yc) / b)**2 + ((z - zc) / c)**2 = 1\n",
    "    # where (xc, yc, zc) is the ellipsoid center, and (a, b, c) are the radii along x, y, z axes respectively\n",
    "    distance = np.sum(((x) / ellipsoid_radii) ** 2)\n",
    "    return distance\n",
    "\n",
    "def point_distance(x, poi):\n",
    "    return np.linalg.norm(poi - x)\n",
    "\n",
    "def closest_point_on_ellipsoid(point, ellipsoid_center, ellipsoid_radii):\n",
    "    # Initial guess for optimization\n",
    "    initial_guess = np.array([6378.1,0,0])\n",
    "    \n",
    "    #Define the objective\n",
    "    objective = lambda x: point_distance(x, point)\n",
    "\n",
    "    # Constrain the optimization to stay on the ellipsoid surface\n",
    "    con = lambda x: ellipsoid_distance(x, ellipsoid_center, ellipsoid_radii)\n",
    "    constraint = NonlinearConstraint(con, 1, 1)\n",
    "    \n",
    "    # Minimize the distance function subject to the constraint\n",
    "    result = minimize(objective, initial_guess, constraints=constraint)\n",
    "    \n",
    "    # Return the optimized point\n",
    "    return result.x\n",
    "\n",
    "# Example usage:\n",
    "ellipsoid_center = np.array([0,0,0])  # Ellipsoid center\n",
    "ellipsoid_radii = np.array([6378.1,6378.1,6356.8])   # Ellipsoid radii along x, y, z axes respectively\n",
    "point = np.array([0,7000,7000])             # Given point\n",
    "\n",
    "closest_point = closest_point_on_ellipsoid(point, ellipsoid_center, ellipsoid_radii)\n",
    "print(\"Closest point on the ellipsoid:\", closest_point)"
   ]
  },
  {
   "cell_type": "code",
   "execution_count": null,
   "metadata": {},
   "outputs": [],
   "source": []
  },
  {
   "cell_type": "code",
   "execution_count": null,
   "metadata": {},
   "outputs": [],
   "source": []
  }
 ],
 "metadata": {
  "kernelspec": {
   "display_name": "base",
   "language": "python",
   "name": "python3"
  },
  "language_info": {
   "codemirror_mode": {
    "name": "ipython",
    "version": 3
   },
   "file_extension": ".py",
   "mimetype": "text/x-python",
   "name": "python",
   "nbconvert_exporter": "python",
   "pygments_lexer": "ipython3",
   "version": "3.11.5"
  }
 },
 "nbformat": 4,
 "nbformat_minor": 2
}
