{
 "cells": [
  {
   "cell_type": "code",
   "execution_count": 4,
   "metadata": {},
   "outputs": [],
   "source": [
    "import warwick_pmsc_skylab"
   ]
  },
  {
   "cell_type": "code",
   "execution_count": 5,
   "metadata": {},
   "outputs": [
    {
     "name": "stdout",
     "output_type": "stream",
     "text": [
      "reached!\n"
     ]
    },
    {
     "ename": "AttributeError",
     "evalue": "'numpy.ndarray' object has no attribute 'iloc'",
     "output_type": "error",
     "traceback": [
      "\u001b[1;31m---------------------------------------------------------------------------\u001b[0m",
      "\u001b[1;31mAttributeError\u001b[0m                            Traceback (most recent call last)",
      "File \u001b[1;32mc:\\Users\\auror\\anaconda3\\Lib\\site-packages\\warwick_pmsc_skylab\\gui.py:512\u001b[0m, in \u001b[0;36mWindow_3D.run_simulator\u001b[1;34m(self)\u001b[0m\n\u001b[0;32m    508\u001b[0m simple_radar \u001b[38;5;241m=\u001b[39m \u001b[38;5;28mself\u001b[39m\u001b[38;5;241m.\u001b[39mradiosimple\u001b[38;5;241m.\u001b[39misChecked()\n\u001b[0;32m    510\u001b[0m poshist, althist \u001b[38;5;241m=\u001b[39m warwick_pmsc_skylab\u001b[38;5;241m.\u001b[39mSimulator\u001b[38;5;241m.\u001b[39mSimulator(satellite_parameters, radar_parameters, dt \u001b[38;5;241m=\u001b[39m dt, maxIter \u001b[38;5;241m=\u001b[39m maxIter, solver \u001b[38;5;241m=\u001b[39m \u001b[38;5;124m'\u001b[39m\u001b[38;5;124mRK45\u001b[39m\u001b[38;5;124m'\u001b[39m, simple_solver \u001b[38;5;241m=\u001b[39m \u001b[38;5;28;01mFalse\u001b[39;00m, simple_radar \u001b[38;5;241m=\u001b[39m simple_radar)\n\u001b[1;32m--> 512\u001b[0m \u001b[38;5;28mself\u001b[39m\u001b[38;5;241m.\u001b[39mrun_predictor()\n",
      "File \u001b[1;32mc:\\Users\\auror\\anaconda3\\Lib\\site-packages\\warwick_pmsc_skylab\\gui.py:522\u001b[0m, in \u001b[0;36mWindow_3D.run_predictor\u001b[1;34m(self)\u001b[0m\n\u001b[0;32m    518\u001b[0m \u001b[38;5;28;01melse\u001b[39;00m:\n\u001b[0;32m    519\u001b[0m     filter_type \u001b[38;5;241m=\u001b[39m \u001b[38;5;124m'\u001b[39m\u001b[38;5;124mkalman\u001b[39m\u001b[38;5;124m'\u001b[39m\n\u001b[1;32m--> 522\u001b[0m \u001b[38;5;28mself\u001b[39m\u001b[38;5;241m.\u001b[39mpredicted_positions, \u001b[38;5;28mself\u001b[39m\u001b[38;5;241m.\u001b[39mpredicted_cov \u001b[38;5;241m=\u001b[39m warwick_pmsc_skylab\u001b[38;5;241m.\u001b[39mPredictor\u001b[38;5;241m.\u001b[39mKalman\u001b[38;5;241m.\u001b[39mrun_filter(filter_type, \u001b[38;5;124m'\u001b[39m\u001b[38;5;124m3d\u001b[39m\u001b[38;5;124m'\u001b[39m, dt \u001b[38;5;241m=\u001b[39m \u001b[38;5;28meval\u001b[39m(\u001b[38;5;28mself\u001b[39m\u001b[38;5;241m.\u001b[39mpred_dt_text\u001b[38;5;241m.\u001b[39mtext()))\n\u001b[0;32m    523\u001b[0m \u001b[38;5;28mself\u001b[39m\u001b[38;5;241m.\u001b[39mHandoff_3D(\u001b[38;5;28mself\u001b[39m\u001b[38;5;241m.\u001b[39mposhist, \u001b[38;5;28mself\u001b[39m\u001b[38;5;241m.\u001b[39malthist, \u001b[38;5;28mself\u001b[39m\u001b[38;5;241m.\u001b[39mpredicted_positions, \u001b[38;5;28mself\u001b[39m\u001b[38;5;241m.\u001b[39mpredicted_cov)\n",
      "File \u001b[1;32mc:\\Users\\auror\\anaconda3\\Lib\\site-packages\\warwick_pmsc_skylab\\Predictor\\Kalman.py:447\u001b[0m, in \u001b[0;36mrun_filter\u001b[1;34m(filter_type, dimension, visualize, dt)\u001b[0m\n\u001b[0;32m    444\u001b[0m     radar_positions \u001b[38;5;241m=\u001b[39m pd\u001b[38;5;241m.\u001b[39mread_csv(radar_positions_path, names\u001b[38;5;241m=\u001b[39mposition_columns)\n\u001b[0;32m    445\u001b[0m     data_test \u001b[38;5;241m=\u001b[39m estimate_position_from_radars_3D(radar_positions, radar_data)\n\u001b[1;32m--> 447\u001b[0m     predicted_positions, predicted_cov \u001b[38;5;241m=\u001b[39m ukf_3d(data_test, dt)\n\u001b[0;32m    449\u001b[0m     \u001b[38;5;28;01mreturn\u001b[39;00m predicted_positions, predicted_cov\n\u001b[0;32m    451\u001b[0m \u001b[38;5;28;01mif\u001b[39;00m visualize:\n\u001b[0;32m    452\u001b[0m     \u001b[38;5;66;03m# Visualization logic based on filter type and dimension\u001b[39;00m\n",
      "File \u001b[1;32mc:\\Users\\auror\\anaconda3\\Lib\\site-packages\\warwick_pmsc_skylab\\Predictor\\Kalman.py:259\u001b[0m, in \u001b[0;36mukf_3d\u001b[1;34m(data_test, dt)\u001b[0m\n\u001b[0;32m    257\u001b[0m points \u001b[38;5;241m=\u001b[39m MerweScaledSigmaPoints(\u001b[38;5;241m6\u001b[39m, alpha\u001b[38;5;241m=\u001b[39m\u001b[38;5;241m0.1\u001b[39m, beta\u001b[38;5;241m=\u001b[39m\u001b[38;5;241m2.\u001b[39m, kappa\u001b[38;5;241m=\u001b[39m\u001b[38;5;241m1.\u001b[39m)\n\u001b[0;32m    258\u001b[0m ukf \u001b[38;5;241m=\u001b[39m UKF(dim_x\u001b[38;5;241m=\u001b[39m\u001b[38;5;241m6\u001b[39m, dim_z\u001b[38;5;241m=\u001b[39m\u001b[38;5;241m3\u001b[39m, fx\u001b[38;5;241m=\u001b[39mstate_transition_function, hx\u001b[38;5;241m=\u001b[39mmeasurement_function, dt\u001b[38;5;241m=\u001b[39mdt, points\u001b[38;5;241m=\u001b[39mpoints)\n\u001b[1;32m--> 259\u001b[0m ukf\u001b[38;5;241m.\u001b[39mx \u001b[38;5;241m=\u001b[39m np\u001b[38;5;241m.\u001b[39marray([data_test\u001b[38;5;241m.\u001b[39miloc[\u001b[38;5;241m0\u001b[39m][\u001b[38;5;124m'\u001b[39m\u001b[38;5;124mx\u001b[39m\u001b[38;5;124m'\u001b[39m], \u001b[38;5;241m0\u001b[39m, data_test\u001b[38;5;241m.\u001b[39miloc[\u001b[38;5;241m0\u001b[39m][\u001b[38;5;124m'\u001b[39m\u001b[38;5;124my\u001b[39m\u001b[38;5;124m'\u001b[39m], \u001b[38;5;241m0\u001b[39m, data_test\u001b[38;5;241m.\u001b[39miloc[\u001b[38;5;241m0\u001b[39m][\u001b[38;5;124m'\u001b[39m\u001b[38;5;124mz\u001b[39m\u001b[38;5;124m'\u001b[39m], \u001b[38;5;241m0\u001b[39m])  \u001b[38;5;66;03m# initial state\u001b[39;00m\n\u001b[0;32m    260\u001b[0m ukf\u001b[38;5;241m.\u001b[39mR \u001b[38;5;241m=\u001b[39m np\u001b[38;5;241m.\u001b[39mdiag([\u001b[38;5;241m85\u001b[39m, \u001b[38;5;241m85\u001b[39m, \u001b[38;5;241m85\u001b[39m])  \u001b[38;5;66;03m# Measurement noise: assuming measurement noise is large\u001b[39;00m\n\u001b[0;32m    261\u001b[0m ukf\u001b[38;5;241m.\u001b[39mQ \u001b[38;5;241m=\u001b[39m np\u001b[38;5;241m.\u001b[39meye(\u001b[38;5;241m6\u001b[39m) \u001b[38;5;241m*\u001b[39m \u001b[38;5;241m0.001\u001b[39m  \u001b[38;5;66;03m# Process noise: assuming process noise is small\u001b[39;00m\n",
      "\u001b[1;31mAttributeError\u001b[0m: 'numpy.ndarray' object has no attribute 'iloc'"
     ]
    },
    {
     "ename": "SystemExit",
     "evalue": "0",
     "output_type": "error",
     "traceback": [
      "An exception has occurred, use %tb to see the full traceback.\n",
      "\u001b[1;31mSystemExit\u001b[0m\u001b[1;31m:\u001b[0m 0\n"
     ]
    },
    {
     "name": "stderr",
     "output_type": "stream",
     "text": [
      "c:\\Users\\auror\\anaconda3\\Lib\\site-packages\\IPython\\core\\interactiveshell.py:3534: UserWarning: To exit: use 'exit', 'quit', or Ctrl-D.\n",
      "  warn(\"To exit: use 'exit', 'quit', or Ctrl-D.\", stacklevel=1)\n"
     ]
    }
   ],
   "source": [
    "warwick_pmsc_skylab.run_GUI()"
   ]
  },
  {
   "cell_type": "code",
   "execution_count": null,
   "metadata": {},
   "outputs": [],
   "source": [
    "import numpy as np\n",
    "import warwick_pmsc_skylab.Simulator\n",
    "help(warwick_pmsc_skylab.Simulator.D3_Satellite)"
   ]
  },
  {
   "cell_type": "code",
   "execution_count": null,
   "metadata": {},
   "outputs": [],
   "source": []
  }
 ],
 "metadata": {
  "kernelspec": {
   "display_name": "base",
   "language": "python",
   "name": "python3"
  },
  "language_info": {
   "codemirror_mode": {
    "name": "ipython",
    "version": 3
   },
   "file_extension": ".py",
   "mimetype": "text/x-python",
   "name": "python",
   "nbconvert_exporter": "python",
   "pygments_lexer": "ipython3",
   "version": "3.11.5"
  }
 },
 "nbformat": 4,
 "nbformat_minor": 2
}
