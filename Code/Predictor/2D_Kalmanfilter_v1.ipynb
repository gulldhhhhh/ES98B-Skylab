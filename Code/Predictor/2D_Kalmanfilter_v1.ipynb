{
 "cells": [
  {
   "cell_type": "code",
   "execution_count": 34,
   "id": "eff2c9d4-1516-4506-ae3a-1b9c1ca4cfc6",
   "metadata": {},
   "outputs": [],
   "source": [
    "import numpy as np \n",
    "import csv\n",
    "import matplotlib.pyplot as plt"
   ]
  },
  {
   "cell_type": "markdown",
   "id": "9a79dbb5-c61f-4e5a-8306-297875c55915",
   "metadata": {},
   "source": [
    "v1 of a 2D prediction of the path the satellite takes using input npisy measurement data from the simulator"
   ]
  },
  {
   "cell_type": "code",
   "execution_count": 29,
   "id": "41b51cec-8054-40dc-b1d2-93b6c81c5a76",
   "metadata": {},
   "outputs": [],
   "source": [
    "import numpy as np\n",
    "\n",
    "class KalmanFilter:\n",
    "    def __init__(self, initial_state, initial_covariance, process_noise_covariance, measurement_noise_covariance):\n",
    "        self.state = initial_state\n",
    "        self.covariance = initial_covariance\n",
    "        self.process_noise_covariance = process_noise_covariance\n",
    "        self.measurement_noise_covariance = measurement_noise_covariance\n",
    "\n",
    "    def predict(self, A):\n",
    "        # Predict the next state\n",
    "        self.state = A @ self.state\n",
    "        # Predict the next covariance\n",
    "        self.covariance = A @ self.covariance @ A.T + self.process_noise_covariance\n",
    "\n",
    "    def update(self, measurement, H):\n",
    "        # Compute Kalman gain\n",
    "        K = self.covariance @ H.T @ np.linalg.inv(H @ self.covariance @ H.T + self.measurement_noise_covariance)\n",
    "        # Update the state estimate\n",
    "        self.state = self.state + K @ (measurement - H @ self.state)\n",
    "        # Update the covariance matrix\n",
    "        self.covariance = self.covariance - K @ H @ self.covariance\n",
    "\n",
    "# Example usage\n",
    "\n",
    "# gather noisy measuremnts from simulator\n",
    "# Load noisy measurements from CSV file\n",
    "noisy_measurements = []\n",
    "with open('data_test.csv', 'r') as csvfile:\n",
    "    csvreader = csv.reader(csvfile)\n",
    "    for row in csvreader:\n",
    "        x, y = map(float, row)\n",
    "        noisy_measurements.append([x, y])\n",
    "        \n",
    "noisy_measurements = np.array(noisy_measurements)\n",
    "\n",
    "# Define initial state, covariance matrices, process noise covariance, and measurement noise covariance\n",
    "initial_velocity_x = -7800\n",
    "initial_velocity_y = 0\n",
    "initial_position_x = noisy_measurements[0][0]\n",
    "initial_position_y = noisy_measurements[0][1]\n",
    "\n",
    "process_noise_variance = 1e-5  # Process noise variance # this needs to be discussed , not sure what it should be \n",
    "measurement_noise_variance = 1e-3  # Measurement noise variance # this changes with every measurement ??\n",
    "initial_state = np.array([initial_position_x, initial_position_y, initial_velocity_x, initial_velocity_y])  # Initial position and velocity\n",
    "initial_covariance = np.eye(4)  # Identity matrix\n",
    "process_noise_covariance = np.eye(4) * process_noise_variance\n",
    "measurement_noise_covariance = np.eye(2) * measurement_noise_variance\n",
    "\n",
    "# Initialize Kalman filter\n",
    "kf = KalmanFilter(initial_state, initial_covariance, process_noise_covariance, measurement_noise_covariance)\n",
    "\n",
    "# Define state transition matrix (assuming simple gravtional and drag model)\n",
    "k1 = 1 # trial values\n",
    "k2 = 1\n",
    "m = 100\n",
    "dt = 1.0  # Time step\n",
    "A = np.array([[1, 0, dt, 0],\n",
    "              [0, 1, 0, dt],\n",
    "              [0, 0, 1 - k1 / m, 0],\n",
    "              [0, 0, 0, 1 - k2 / m]])\n",
    "\n",
    "# k1 and k2 are drag coefficients and m is the mass of the sattellite\n",
    "\n",
    "# Define measurement matrix\n",
    "H = np.array([[1, 0, 0, 0],\n",
    "              [0, 1, 0, 0]])\n",
    "\n",
    "# List to store predicted positions\n",
    "predicted_positions = []\n",
    "\n",
    "# Iterate over our noisy measurements\n",
    "for measurement in noisy_measurements:\n",
    "    # Prediction step\n",
    "    kf.predict(A)\n",
    "    # Update step\n",
    "    kf.update(measurement, H)\n",
    "    \n",
    "    # Store predicted position\n",
    "    predicted_positions.append(kf.state[:2])  # Only x, y coordinates\n",
    "\n",
    "# Convert to numpy array\n",
    "predicted_positions = np.array(predicted_positions)\n",
    "\n",
    "\n",
    "# Final estimated state of the satellite\n",
    "final_position = kf.state[0]\n",
    "final_velocity = kf.state[1]"
   ]
  },
  {
   "cell_type": "code",
   "execution_count": 33,
   "id": "ce46f506-ddeb-4fe9-aeb1-6082391c95f1",
   "metadata": {},
   "outputs": [
    {
     "data": {
      "image/png": "[encoded data removed]",
      "text/plain": [
       "<Figure size 720x432 with 1 Axes>"
      ]
     },
     "metadata": {
      "needs_background": "light"
     },
     "output_type": "display_data"
    }
   ],
   "source": [
    "# Plotting\n",
    "plt.figure(figsize=(10, 6))\n",
    "plt.scatter(noisy_measurements[:, 0], noisy_measurements[:, 1], color='red', label='Noisy Measurements')\n",
    "plt.plot(predicted_positions[:, 0], predicted_positions[:, 1], color='blue', label='Predicted Position')\n",
    "plt.xlabel('X')\n",
    "plt.ylabel('Y')\n",
    "plt.title('Predicted Position of the Satellite')\n",
    "plt.legend()\n",
    "plt.grid(True)\n",
    "plt.show()"
   ]
  },
  {
   "cell_type": "markdown",
   "id": "535ba9e9-7eff-4e76-aae3-a582d3093350",
   "metadata": {},
   "source": [
    "From the above plot, I think less data should be used, maybe a time step of 10 seconds."
   ]
  },
  {
   "cell_type": "code",
   "execution_count": null,
   "id": "43a5c247-2273-418f-9663-f7d47c872424",
   "metadata": {},
   "outputs": [],
   "source": []
  }
 ],
 "metadata": {
  "kernelspec": {
   "display_name": "Python 3 (ipykernel)",
   "language": "python",
   "name": "python3"
  },
  "language_info": {
   "codemirror_mode": {
    "name": "ipython",
    "version": 3
   },
   "file_extension": ".py",
   "mimetype": "text/x-python",
   "name": "python",
   "nbconvert_exporter": "python",
   "pygments_lexer": "ipython3",
   "version": "3.9.12"
  }
 },
 "nbformat": 4,
 "nbformat_minor": 5
}
