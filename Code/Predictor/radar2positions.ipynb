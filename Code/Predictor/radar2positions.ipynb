{
 "cells": [
  {
   "cell_type": "code",
   "execution_count": 1,
   "id": "9917e9e4-2588-4da3-9355-d2715ba3c493",
   "metadata": {},
   "outputs": [],
   "source": [
    "# defining a function that takes noisy measurements of radar readings and converts into 3D co-ordinates of position\n",
    "# of satellite\n",
    "\n",
    "import csv\n",
    "import numpy as np\n",
    "\n",
    "# Load radar positions from 'radar_positions.csv'\n",
    "radar_positions = []\n",
    "with open('Radar_Positions.csv', 'r') as file:\n",
    "    reader = csv.reader(file)\n",
    "    for row in reader:\n",
    "        radar_positions.append([float(val) for val in row])\n",
    "\n",
    "# Load satellite readings from 'radar_readings.csv'\n",
    "satellite_readings = []\n",
    "with open('Radar_Readings.csv', 'r') as file:\n",
    "    reader = csv.reader(file)\n",
    "    for row in reader:\n",
    "        satellite_readings.append([float(val) for val in row])\n",
    "\n",
    "# Convert to numpy arrays for easier manipulation\n",
    "radar_positions = np.array(radar_positions)\n",
    "satellite_readings = np.array(satellite_readings)\n",
    "\n",
    "# Reshape satellite readings to have 5 columns\n",
    "satellite_readings = satellite_readings.reshape(-1, 5, 3)\n",
    "\n",
    "# Calculate absolute positions for each time step - absolute positions meaning position of the satellite from the centre of the Earth\n",
    "absolute_positions = []\n",
    "for readings in satellite_readings:\n",
    "    absolute_positions.append(readings + radar_positions)\n",
    "\n",
    "# Save absolute positions to a new CSV file\n",
    "with open('absolute_positions.csv', 'w', newline='') as file:\n",
    "    writer = csv.writer(file)\n",
    "    for positions in absolute_positions:\n",
    "        for pos in positions:\n",
    "            writer.writerow(pos)"
   ]
  },
  {
   "cell_type": "markdown",
   "id": "e0eba4a0-5f0f-4f8f-9474-45e5cfa87724",
   "metadata": {},
   "source": [
    "The above code takes noisy measurements of radar readings and converts them into position of radar relative to centre of Earth, ready to be passed into the 3D Kalman filter."
   ]
  },
  {
   "cell_type": "code",
   "execution_count": null,
   "id": "b1b51ab0-f1ac-4a48-b2da-e153440c842a",
   "metadata": {},
   "outputs": [],
   "source": []
  }
 ],
 "metadata": {
  "kernelspec": {
   "display_name": "Python 3 (ipykernel)",
   "language": "python",
   "name": "python3"
  },
  "language_info": {
   "codemirror_mode": {
    "name": "ipython",
    "version": 3
   },
   "file_extension": ".py",
   "mimetype": "text/x-python",
   "name": "python",
   "nbconvert_exporter": "python",
   "pygments_lexer": "ipython3",
   "version": "3.9.12"
  }
 },
 "nbformat": 4,
 "nbformat_minor": 5
}
